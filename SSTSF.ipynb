{
 "cells": [
  {
   "cell_type": "code",
   "execution_count": 31,
   "id": "2c1b488a",
   "metadata": {},
   "outputs": [],
   "source": [
    "import pandas as pd\n",
    "import numpy as np\n",
    "import matplotlib.pyplot as plt\n",
    "import seaborn as sns\n",
    "from sklearn.model_selection import train_test_split\n",
    "from sklearn.ensemble import RandomForestRegressor\n",
    "from sklearn.metrics import mean_squared_log_error"
   ]
  },
  {
   "cell_type": "code",
   "execution_count": 32,
   "id": "8b2ab5cb",
   "metadata": {},
   "outputs": [],
   "source": [
    "train = pd.read_csv('train.csv')\n",
    "test = pd.read_csv('test.csv')\n",
    "stores = pd.read_csv('stores.csv')\n",
    "oil = pd.read_csv('oil.csv')\n",
    "holidays = pd.read_csv('holidays_events.csv')"
   ]
  },
  {
   "cell_type": "code",
   "execution_count": 33,
   "id": "f61b4ae3",
   "metadata": {},
   "outputs": [],
   "source": [
    "# Example of creating date-related features\n",
    "train['date'] = pd.to_datetime(train['date'])\n",
    "train['day'] = train['date'].dt.day\n",
    "train['month'] = train['date'].dt.month\n",
    "train['year'] = train['date'].dt.year\n",
    "train['onpromotion'].fillna(train['onpromotion'].mean(), inplace=True)"
   ]
  },
  {
   "cell_type": "code",
   "execution_count": 34,
   "id": "22c9fa6b",
   "metadata": {},
   "outputs": [],
   "source": [
    "# Load other relevant datasets\n",
    "stores = pd.read_csv('stores.csv')\n",
    "\n",
    "# Merge training data with store metadata\n",
    "merged_train = pd.merge(train, stores, how='left', on='store_nbr')\n",
    "\n",
    "# Encode categorical variables\n",
    "merged_train = pd.get_dummies(merged_train, columns=['type', 'family'])"
   ]
  },
  {
   "cell_type": "code",
   "execution_count": 35,
   "id": "e1582b91",
   "metadata": {},
   "outputs": [],
   "source": [
    "# Exclude non-numeric columns from features\n",
    "X_train = merged_train.select_dtypes(include=['float64', 'int64', 'uint8'])\n",
    "y_train = merged_train['sales']"
   ]
  },
  {
   "cell_type": "code",
   "execution_count": 40,
   "id": "c1dbefd8",
   "metadata": {},
   "outputs": [],
   "source": [
    "# Load and preprocess the test data similarly\n",
    "test = pd.read_csv('test.csv')\n",
    "test['date'] = pd.to_datetime(test['date'])\n",
    "test['day'] = test['date'].dt.day\n",
    "test['month'] = test['date'].dt.month\n",
    "test['year'] = test['date'].dt.year\n",
    "test['onpromotion'].fillna(test['onpromotion'].mean(), inplace=True)\n",
    "test = pd.merge(test, stores, how='left', on='store_nbr')\n",
    "test = pd.get_dummies(test, columns=['type', 'family'])\n",
    "X_test = test.select_dtypes(include=['float64', 'int64', 'uint8'])\n",
    "\n",
    "# Ensure the columns in X_train and X_test are aligned\n",
    "X_train, X_test = X_train.align(X_test, join='outer', axis=1, fill_value=0)"
   ]
  },
  {
   "cell_type": "code",
   "execution_count": 42,
   "id": "563d9815",
   "metadata": {
    "scrolled": true
   },
   "outputs": [
    {
     "data": {
      "text/plain": [
       "RandomForestRegressor()"
      ]
     },
     "execution_count": 42,
     "metadata": {},
     "output_type": "execute_result"
    }
   ],
   "source": [
    "# Model Training\n",
    "final_model = RandomForestRegressor()\n",
    "final_model.fit(X_train, y_train)"
   ]
  },
  {
   "cell_type": "code",
   "execution_count": 43,
   "id": "60dde507",
   "metadata": {},
   "outputs": [],
   "source": [
    "# Make Predictions\n",
    "final_predictions = final_model.predict(X_test)"
   ]
  },
  {
   "cell_type": "code",
   "execution_count": 44,
   "id": "2b28bbb5",
   "metadata": {},
   "outputs": [],
   "source": [
    "# Save predictions to a CSV file\n",
    "submission = pd.DataFrame({'id': test['id'], 'sales': final_predictions})\n",
    "submission.to_csv('submission.csv', index=False)"
   ]
  }
 ],
 "metadata": {
  "kernelspec": {
   "display_name": "Python 3 (ipykernel)",
   "language": "python",
   "name": "python3"
  },
  "language_info": {
   "codemirror_mode": {
    "name": "ipython",
    "version": 3
   },
   "file_extension": ".py",
   "mimetype": "text/x-python",
   "name": "python",
   "nbconvert_exporter": "python",
   "pygments_lexer": "ipython3",
   "version": "3.9.13"
  }
 },
 "nbformat": 4,
 "nbformat_minor": 5
}
